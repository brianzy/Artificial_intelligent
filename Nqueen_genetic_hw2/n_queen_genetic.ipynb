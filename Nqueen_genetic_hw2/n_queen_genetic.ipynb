{
 "cells": [
  {
   "cell_type": "code",
   "execution_count": 228,
   "metadata": {
    "collapsed": true
   },
   "outputs": [],
   "source": [
    "import numpy as np\n",
    "import random "
   ]
  },
  {
   "cell_type": "code",
   "execution_count": 229,
   "metadata": {
    "collapsed": true
   },
   "outputs": [],
   "source": [
    "def random_place(size):\n",
    "    \"\"\"\n",
    "    randomly placed queens\n",
    "    \"\"\"\n",
    "    board= []\n",
    "    for i in range(size):\n",
    "        board.append(random.randint(0,size-1))\n",
    "\n",
    "    return board"
   ]
  },
  {
   "cell_type": "code",
   "execution_count": 230,
   "metadata": {
    "collapsed": true
   },
   "outputs": [],
   "source": [
    "def fitness(board):\n",
    "    \"\"\"\n",
    "    find fitness fucntion\n",
    "    \"\"\"\n",
    "    h = 0\n",
    "    for i in range(len(board)):\n",
    "    #Check every column we haven't already checked\n",
    "        for j in range(i + 1,len(board)):\n",
    "          #Queens are in the same row\n",
    "          if board[i] == board[j]:\n",
    "            h += 1\n",
    "      #Get the difference between the current column\n",
    "      #and the check column\n",
    "          offset = j - i\n",
    "      #To be a diagonal, the check column value has to be \n",
    "      #equal to the current column value +/- the offset\n",
    "          if board[i] == board[j] - offset or board[i] == board[j] + offset:\n",
    "            h += 1\n",
    "     \n",
    "    return h"
   ]
  },
  {
   "cell_type": "code",
   "execution_count": 231,
   "metadata": {
    "collapsed": true
   },
   "outputs": [],
   "source": [
    "def swap_random(seq):\n",
    "    \"\"\"\n",
    "    randomly sway two positions in the list\n",
    "    \"\"\"\n",
    "    idx = range(len(seq))\n",
    "    i1, i2 = random.sample(idx, 2)\n",
    "    seq[i1], seq[i2] = seq[i2], seq[i1]"
   ]
  },
  {
   "cell_type": "code",
   "execution_count": 232,
   "metadata": {
    "collapsed": true
   },
   "outputs": [],
   "source": [
    "def genetic(size):\n",
    "    \"\"\"\n",
    "    achieve genetic algorithm\n",
    "    population use 2 times of demention\n",
    "    probability function use 1/fitness function to pick 2 from population\n",
    "    \"\"\"\n",
    "    global counter\n",
    "    population=2*size\n",
    "    score=[]\n",
    "    pool=[]\n",
    "    #randomly create pool\n",
    "    for i in range(population):\n",
    "        pool.append(random_place(size))\n",
    "    #print inital pool\n",
    "    #print(pool)       \n",
    "        #get probability list    \n",
    "    for i in range(population):\n",
    "            score.append(1/fitness(pool[i]))\n",
    "    for j in range(9000):\n",
    "        #use survival function to calculate probability\n",
    "        prob=[float(i)/sum(score) for i in score]\n",
    "        parent1_idx,parent2_idx=np.random.choice(len(pool),2,p=prob)\n",
    "        parent1=pool[parent1_idx]\n",
    "        parent2=pool[parent2_idx]\n",
    "        np.random.shuffle(parent1)\n",
    "        #np.random.shuffle(parent2)\n",
    "        index1=int(size/4)\n",
    "        #crossover : take 1/4 from randomly shuffled parent1 and take 3/4 from parent2\n",
    "        child1=parent1[:index1]+parent2[index1:]\n",
    "        child2=parent2[:index1]+parent1[index1:]\n",
    "        #mutation(randomly swap two queen in diferent columns)\n",
    "        swap_random(child1) \n",
    "        swap_random(child2)\n",
    "\n",
    "        #subsitute\n",
    "        pool[parent1_idx]=child1\n",
    "        pool[parent2_idx]=child2\n",
    "        if fitness(pool[parent1_idx])==0:\n",
    "            print('find solution:\\n',pool[parent1_idx],'in',j,'steps')\n",
    "            counter=counter+1\n",
    "            return\n",
    "        if fitness(pool[parent2_idx])==0:\n",
    "            print('find solution:\\n',pool[parent2_idx],'in',j,'steps')\n",
    "            counter=counter+1\n",
    "            return\n",
    "        score[parent1_idx]=1/fitness(pool[parent1_idx])\n",
    "        score[parent2_idx]=1/fitness(pool[parent2_idx])\n",
    "        \n",
    "    return pool"
   ]
  },
  {
   "cell_type": "code",
   "execution_count": 233,
   "metadata": {},
   "outputs": [
    {
     "name": "stdout",
     "output_type": "stream",
     "text": [
      "find solution:\n",
      " [6, 1, 5, 2, 0, 3, 7, 4] in 3597 steps\n",
      "find solution:\n",
      " [2, 5, 3, 0, 7, 4, 6, 1] in 5709 steps\n",
      "find solution:\n",
      " [6, 0, 2, 7, 5, 3, 1, 4] in 5088 steps\n",
      "find solution:\n",
      " [5, 1, 6, 0, 3, 7, 4, 2] in 440 steps\n",
      "find solution:\n",
      " [7, 1, 4, 2, 0, 6, 3, 5] in 4621 steps\n",
      "find solution:\n",
      " [0, 6, 3, 5, 7, 1, 4, 2] in 7792 steps\n",
      "find solution:\n",
      " [3, 0, 4, 7, 5, 2, 6, 1] in 3156 steps\n",
      "find solution:\n",
      " [4, 1, 3, 5, 7, 2, 0, 6] in 2201 steps\n",
      "we can find solution for  8  times\n"
     ]
    }
   ],
   "source": [
    "#8 queens\n",
    "counter=0\n",
    "for i in range(100):\n",
    "    genetic(8)\n",
    "print(\"we can find solution for \",counter,' times')    "
   ]
  },
  {
   "cell_type": "code",
   "execution_count": 234,
   "metadata": {},
   "outputs": [
    {
     "name": "stdout",
     "output_type": "stream",
     "text": [
      "we can find solution for  0  times\n"
     ]
    }
   ],
   "source": [
    "#16 queens\n",
    "counter=0\n",
    "for i in range(100):\n",
    "    genetic(16)\n",
    "print(\"we can find solution for \",counter,' times')"
   ]
  },
  {
   "cell_type": "code",
   "execution_count": 235,
   "metadata": {},
   "outputs": [
    {
     "name": "stdout",
     "output_type": "stream",
     "text": [
      "we can find solution for  0  times\n"
     ]
    }
   ],
   "source": [
    "#32 queens\n",
    "\n",
    "counter=0\n",
    "for i in range(20):\n",
    "    genetic(32)\n",
    "print(\"we can find solution for \",counter,' times')        "
   ]
  }
 ],
 "metadata": {
  "kernelspec": {
   "display_name": "Python 3",
   "language": "python",
   "name": "python3"
  },
  "language_info": {
   "codemirror_mode": {
    "name": "ipython",
    "version": 3
   },
   "file_extension": ".py",
   "mimetype": "text/x-python",
   "name": "python",
   "nbconvert_exporter": "python",
   "pygments_lexer": "ipython3",
   "version": "3.6.3"
  }
 },
 "nbformat": 4,
 "nbformat_minor": 2
}
