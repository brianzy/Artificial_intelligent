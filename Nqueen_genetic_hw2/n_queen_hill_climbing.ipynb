{
 "cells": [
  {
   "cell_type": "code",
   "execution_count": 15,
   "metadata": {
    "collapsed": true
   },
   "outputs": [],
   "source": [
    "import numpy as np\n",
    "import random \n",
    "import time"
   ]
  },
  {
   "cell_type": "code",
   "execution_count": 16,
   "metadata": {
    "collapsed": true
   },
   "outputs": [],
   "source": [
    "def random_place(size):\n",
    "    board= []\n",
    "    for i in range(size):\n",
    "        board.append(random.randint(0,size-1))\n",
    "\n",
    "    return board"
   ]
  },
  {
   "cell_type": "code",
   "execution_count": 17,
   "metadata": {
    "collapsed": true
   },
   "outputs": [],
   "source": [
    "def get_h_score(board):\n",
    "    h = 0\n",
    "    for i in range(len(board)):\n",
    "    #Check every column we haven't already checked\n",
    "        for j in range(i + 1,len(board)):\n",
    "          #Queens are in the same row\n",
    "          if board[i] == board[j]:\n",
    "            h += 1\n",
    "      #Get the difference between the current column\n",
    "      #and the check column\n",
    "          offset = j - i\n",
    "      #To be a diagonal, the check column value has to be \n",
    "      #equal to the current column value +/- the offset\n",
    "          if board[i] == board[j] - offset or board[i] == board[j] + offset:\n",
    "            h += 1\n",
    "     \n",
    "    return h"
   ]
  },
  {
   "cell_type": "code",
   "execution_count": 18,
   "metadata": {
    "collapsed": true
   },
   "outputs": [],
   "source": [
    "def hill_climbing_search(board):\n",
    "    global counter\n",
    "    moves = {}\n",
    "    for col in range(len(board)):\n",
    "        best_move = board[col]\n",
    "        for row in range(len(board)):\n",
    "            if board[col] == row:\n",
    "            #We don't need to evaluate the current\n",
    "            #position, we already know the h-value\n",
    "                continue\n",
    "\n",
    "            board_copy = list(board)\n",
    "          #Move the queen to the new row\n",
    "            board_copy[col] = row\n",
    "            moves[(col,row)] = get_h_score(board_copy)\n",
    "            if get_h_score(board_copy)==0:\n",
    "                counter=counter+1\n",
    "                #print('find solution: ')\n",
    "                return board_copy\n",
    "        best_moves = []\n",
    "        h_to_beat = get_h_score(board)\n",
    "        for k,v in moves.items():\n",
    "            if v < h_to_beat:\n",
    "                h_to_beat = v\n",
    "\n",
    "        for k,v in moves.items():\n",
    "            if v == h_to_beat:\n",
    "                best_moves.append(k)\n",
    "\n",
    "        #Pick a random best move\n",
    "        if len(best_moves) > 0:\n",
    "            pick = random.randint(0,len(best_moves) - 1)\n",
    "            col = best_moves[pick][0]\n",
    "            row = best_moves[pick][1]\n",
    "            board[col] = row\n",
    "    #print('final state: ')\n",
    "    return board"
   ]
  },
  {
   "cell_type": "code",
   "execution_count": 19,
   "metadata": {},
   "outputs": [
    {
     "name": "stdout",
     "output_type": "stream",
     "text": [
      "initial state\n",
      "[5, 1, 2, 5, 0, 2, 4, 7]\n",
      "[3, 6, 1, 5, 0, 1, 4, 7]\n",
      "initial state\n",
      "[4, 5, 4, 6, 4, 2, 1, 3]\n",
      "[1, 5, 0, 6, 4, 7, 5, 3]\n",
      "initial state\n",
      "[5, 3, 7, 6, 0, 4, 4, 3]\n",
      "[1, 5, 2, 5, 7, 0, 3, 3]\n",
      "initial state\n",
      "[6, 0, 2, 4, 7, 2, 0, 3]\n",
      "[5, 0, 6, 1, 7, 2, 6, 3]\n",
      "initial state\n",
      "[0, 6, 6, 1, 4, 7, 7, 7]\n",
      "[3, 0, 6, 1, 2, 0, 7, 7]\n",
      "initial state\n",
      "[6, 0, 0, 1, 6, 5, 7, 6]\n",
      "[3, 5, 0, 1, 1, 7, 2, 6]\n",
      "initial state\n",
      "[0, 7, 1, 4, 7, 6, 1, 3]\n",
      "[2, 5, 7, 0, 7, 6, 1, 3]\n",
      "initial state\n",
      "[3, 1, 7, 2, 4, 0, 1, 6]\n",
      "[3, 5, 7, 1, 4, 6, 1, 6]\n",
      "initial state\n",
      "[6, 3, 6, 6, 0, 5, 6, 0]\n",
      "[1, 7, 4, 2, 0, 5, 3, 6]\n",
      "initial state\n",
      "[5, 4, 3, 1, 1, 1, 1, 2]\n",
      "[0, 7, 3, 5, 6, 1, 4, 2]\n",
      "we can find solution for  3\n"
     ]
    }
   ],
   "source": [
    "#8 queens\n",
    "counter=0\n",
    "for i in range(10):\n",
    "    board=random_place(8)\n",
    "    print('initial state')\n",
    "    print(board)\n",
    "    hill_climbing_search(board)\n",
    "    print(board)\n",
    "for i in range(90):\n",
    "    board=random_place(8)\n",
    "    hill_climbing_search(board)\n",
    "    \n",
    "print(\"we can find solution for \",counter)"
   ]
  },
  {
   "cell_type": "code",
   "execution_count": 20,
   "metadata": {},
   "outputs": [
    {
     "name": "stdout",
     "output_type": "stream",
     "text": [
      "initial state\n",
      "[7, 13, 11, 7, 4, 0, 3, 14, 10, 15, 15, 3, 14, 7, 8, 10]\n",
      "[1, 9, 5, 12, 4, 1, 13, 6, 4, 0, 7, 3, 14, 11, 8, 10]\n",
      "initial state\n",
      "[14, 9, 3, 15, 2, 11, 9, 0, 12, 8, 11, 9, 11, 3, 11, 15]\n",
      "[13, 10, 7, 5, 14, 1, 13, 0, 2, 4, 12, 9, 3, 3, 11, 15]\n",
      "initial state\n",
      "[0, 12, 13, 5, 7, 14, 8, 9, 14, 7, 0, 7, 14, 9, 5, 0]\n",
      "[1, 6, 15, 10, 4, 2, 3, 11, 13, 2, 0, 3, 14, 7, 5, 13]\n",
      "initial state\n",
      "[6, 2, 3, 9, 10, 9, 6, 9, 5, 15, 0, 15, 4, 12, 6, 11]\n",
      "[7, 14, 3, 1, 13, 10, 0, 9, 5, 2, 8, 15, 12, 12, 6, 4]\n",
      "initial state\n",
      "[13, 8, 2, 1, 5, 5, 15, 12, 0, 3, 9, 6, 1, 10, 7, 6]\n",
      "[11, 13, 4, 13, 11, 5, 14, 12, 0, 15, 8, 14, 1, 10, 2, 6]\n",
      "initial state\n",
      "[2, 8, 14, 6, 15, 2, 0, 9, 7, 1, 5, 8, 14, 7, 3, 12]\n",
      "[13, 10, 6, 6, 14, 11, 4, 0, 15, 1, 5, 10, 2, 9, 3, 12]\n",
      "initial state\n",
      "[9, 7, 10, 3, 8, 9, 3, 0, 6, 5, 12, 2, 7, 8, 11, 0]\n",
      "[1, 15, 1, 14, 4, 13, 9, 10, 15, 5, 12, 2, 7, 6, 11, 0]\n",
      "initial state\n",
      "[6, 8, 8, 14, 3, 11, 4, 15, 9, 8, 3, 7, 7, 13, 7, 2]\n",
      "[12, 10, 6, 0, 11, 11, 4, 15, 5, 14, 9, 3, 8, 13, 7, 2]\n",
      "initial state\n",
      "[12, 15, 10, 10, 12, 13, 15, 13, 3, 11, 8, 1, 5, 3, 11, 12]\n",
      "[4, 14, 7, 2, 6, 9, 15, 13, 0, 10, 8, 11, 1, 3, 5, 12]\n",
      "initial state\n",
      "[0, 10, 15, 15, 12, 3, 7, 11, 4, 1, 13, 4, 3, 2, 1, 13]\n",
      "[6, 10, 2, 14, 12, 15, 8, 11, 5, 10, 0, 7, 9, 4, 1, 13]\n",
      "we can find solution for  0\n"
     ]
    }
   ],
   "source": [
    "#16 queens\n",
    "\n",
    "counter=0\n",
    "for i in range(10):\n",
    "    board=random_place(16)\n",
    "    print('initial state')\n",
    "    print(board)\n",
    "    hill_climbing_search(board)\n",
    "    print(board)\n",
    "for i in range(90):\n",
    "    board=random_place(16)\n",
    "    hill_climbing_search(board)\n",
    "    \n",
    "print(\"we can find solution for \",counter)"
   ]
  },
  {
   "cell_type": "code",
   "execution_count": 21,
   "metadata": {},
   "outputs": [
    {
     "name": "stdout",
     "output_type": "stream",
     "text": [
      "initial state\n",
      "[25, 24, 10, 9, 27, 26, 30, 18, 9, 0, 30, 30, 17, 19, 10, 9, 3, 8, 13, 12, 18, 14, 23, 24, 18, 15, 18, 8, 21, 22, 8, 29]\n",
      "[4, 1, 16, 20, 7, 28, 31, 6, 26, 11, 17, 30, 0, 19, 10, 2, 5, 22, 13, 3, 9, 4, 23, 27, 12, 15, 18, 8, 25, 14, 21, 24]\n",
      "initial state\n",
      "[3, 31, 19, 27, 5, 11, 12, 13, 9, 4, 20, 11, 26, 13, 7, 29, 31, 19, 15, 7, 4, 4, 7, 21, 29, 15, 10, 11, 0, 2, 3, 8]\n",
      "[23, 14, 1, 24, 30, 27, 0, 13, 9, 5, 20, 6, 25, 22, 5, 26, 31, 25, 28, 12, 1, 4, 7, 21, 29, 15, 29, 11, 17, 31, 18, 2]\n",
      "initial state\n",
      "[14, 31, 4, 26, 31, 9, 3, 17, 7, 10, 22, 24, 25, 15, 30, 14, 6, 17, 20, 26, 23, 10, 1, 18, 14, 24, 31, 15, 11, 0, 0, 8]\n",
      "[21, 19, 16, 28, 13, 9, 3, 5, 2, 27, 22, 4, 25, 28, 30, 7, 12, 17, 29, 26, 23, 6, 1, 10, 14, 24, 31, 15, 20, 30, 0, 8]\n",
      "initial state\n",
      "[31, 8, 1, 30, 19, 27, 28, 17, 26, 15, 6, 7, 7, 6, 13, 16, 4, 8, 29, 2, 0, 22, 2, 17, 23, 16, 13, 2, 6, 12, 26, 10]\n",
      "[5, 14, 11, 3, 19, 25, 30, 28, 24, 1, 18, 15, 7, 31, 3, 27, 22, 20, 4, 29, 13, 0, 2, 17, 21, 27, 16, 2, 19, 12, 26, 8]\n",
      "initial state\n",
      "[2, 23, 27, 23, 25, 6, 25, 5, 30, 2, 1, 15, 7, 9, 2, 0, 13, 14, 12, 17, 7, 14, 20, 21, 3, 25, 14, 28, 15, 13, 19, 18]\n",
      "[10, 31, 16, 11, 24, 4, 27, 10, 30, 22, 1, 26, 29, 8, 6, 0, 23, 2, 12, 5, 17, 14, 12, 21, 3, 25, 31, 28, 1, 13, 19, 9]\n",
      "initial state\n",
      "[8, 24, 22, 26, 6, 15, 16, 17, 26, 0, 26, 7, 17, 5, 12, 3, 29, 18, 24, 28, 18, 25, 12, 25, 10, 1, 7, 29, 14, 0, 10, 0]\n",
      "[27, 20, 9, 2, 4, 8, 31, 15, 22, 6, 26, 21, 7, 30, 3, 3, 29, 11, 23, 28, 18, 25, 13, 16, 24, 1, 27, 17, 5, 13, 12, 0]\n",
      "initial state\n",
      "[27, 19, 18, 13, 15, 4, 11, 6, 2, 12, 31, 11, 27, 4, 0, 1, 24, 21, 13, 13, 24, 20, 17, 6, 20, 8, 16, 6, 8, 5, 0, 28]\n",
      "[26, 7, 3, 22, 14, 30, 18, 16, 19, 2, 10, 11, 25, 15, 31, 4, 1, 29, 25, 13, 28, 20, 17, 27, 5, 12, 21, 6, 24, 5, 0, 23]\n",
      "initial state\n",
      "[9, 25, 4, 22, 5, 10, 21, 10, 13, 18, 17, 20, 0, 28, 17, 2, 11, 5, 10, 2, 27, 22, 0, 5, 30, 25, 24, 15, 31, 10, 23, 3]\n",
      "[16, 12, 1, 29, 26, 19, 8, 4, 21, 14, 9, 7, 13, 28, 26, 6, 11, 21, 2, 27, 27, 10, 0, 5, 30, 11, 24, 15, 31, 10, 23, 3]\n",
      "initial state\n",
      "[4, 7, 19, 28, 12, 30, 9, 0, 3, 11, 17, 10, 14, 12, 22, 22, 23, 20, 6, 22, 20, 17, 0, 20, 5, 8, 0, 16, 12, 9, 26, 8]\n",
      "[18, 13, 7, 29, 15, 30, 25, 1, 3, 19, 24, 31, 4, 14, 31, 21, 14, 3, 6, 22, 28, 23, 15, 2, 5, 10, 0, 16, 12, 9, 26, 8]\n",
      "initial state\n",
      "[15, 27, 22, 19, 13, 11, 7, 7, 27, 18, 18, 2, 5, 25, 5, 1, 21, 19, 21, 30, 29, 5, 9, 6, 25, 28, 8, 27, 14, 5, 13, 30]\n",
      "[4, 24, 22, 17, 26, 0, 12, 3, 15, 7, 31, 2, 20, 23, 3, 7, 29, 11, 21, 16, 1, 19, 9, 28, 25, 18, 0, 27, 18, 5, 13, 30]\n",
      "we can find solution for  0  times\n"
     ]
    }
   ],
   "source": [
    "#32 queens\n",
    "\n",
    "counter=0\n",
    "for i in range(10):\n",
    "    board=random_place(32)\n",
    "    print('initial state')\n",
    "    print(board)\n",
    "    hill_climbing_search(board)\n",
    "    print(board)\n",
    "for i in range(90):\n",
    "    board=random_place(32)\n",
    "    hill_climbing_search(board)\n",
    "    \n",
    "print(\"we can find solution for \",counter,' times')"
   ]
  }
 ],
 "metadata": {
  "kernelspec": {
   "display_name": "Python 3",
   "language": "python",
   "name": "python3"
  },
  "language_info": {
   "codemirror_mode": {
    "name": "ipython",
    "version": 3
   },
   "file_extension": ".py",
   "mimetype": "text/x-python",
   "name": "python",
   "nbconvert_exporter": "python",
   "pygments_lexer": "ipython3",
   "version": "3.6.3"
  }
 },
 "nbformat": 4,
 "nbformat_minor": 2
}
