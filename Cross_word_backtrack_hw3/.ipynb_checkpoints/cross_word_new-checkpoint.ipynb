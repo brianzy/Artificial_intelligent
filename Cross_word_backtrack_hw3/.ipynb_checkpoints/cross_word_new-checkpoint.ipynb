{
 "cells": [
  {
   "cell_type": "code",
   "execution_count": 23,
   "metadata": {},
   "outputs": [
    {
     "data": {
      "text/plain": [
       "8"
      ]
     },
     "execution_count": 23,
     "metadata": {},
     "output_type": "execute_result"
    }
   ],
   "source": [
    "class word():\n",
    "    def __init__(self, string, boolean=True):\n",
    "        self.string=string\n",
    "        self.boolean=boolean\n",
    "word1=[word('HOSES'),word('LASER'),word('SAILS'),word('SHEET'),word('STEER')]\n",
    "word2=[word('HOSES'),word('LASER'),word('SAILS'),word('SHEET'),word('STEER')]\n",
    "word3=[word('HOSES'),word('LASER'),word('SAILS'),word('SHEET'),word('STEER')]\n",
    "word4=[word('HEEL'),word('HIKE'),word('KEEL'),word('KNOT'),word('LINE')]\n",
    "word5=[word('HEEL'),word('HIKE'),word('KEEL'),word('KNOT'),word('LINE')]\n",
    "word6=[word('AFT'),word('ALE'),word('EEL'),word('LEE'),word('TIE')]\n",
    "word7=[word('AFT'),word('ALE'),word('EEL'),word('LEE'),word('TIE')]\n",
    "word8=[word('HOSES'),word('LASER'),word('SAILS'),word('SHEET'),word('STEER')]\n",
    "#print(word1[0].boolean)\n",
    "dicts=[word1,word2,word3,word4,word5,word6,word7,word8]\n",
    "#len(dicts)"
   ]
  },
  {
   "cell_type": "code",
   "execution_count": 22,
   "metadata": {},
   "outputs": [
    {
     "name": "stdout",
     "output_type": "stream",
     "text": [
      "[]\n"
     ]
    }
   ],
   "source": [
    "def find_first_true(wordlist):\n",
    "    \"\"\"\n",
    "    give a list return the first object with true value.\n",
    "    \"\"\"\n",
    "    word=[i for i in wordlist if i.boolean==True]\n",
    "    if len(word)==0:\n",
    "        return False\n",
    "    else:\n",
    "        return word[0]\n",
    "print(find_first_true(word1))\n"
   ]
  },
  {
   "cell_type": "code",
   "execution_count": null,
   "metadata": {
    "collapsed": true
   },
   "outputs": [],
   "source": [
    "def add_word(words,string):\n",
    "    if words==word1:\n",
    "        for word in word2:\n",
    "            if string[2]!= word.string[0]:\n",
    "                word.boolean=False\n",
    "        for word in word3:\n",
    "            if string[4]!= word.string[0]:\n",
    "                word.boolean=False\n",
    "    if words==word2:\n",
    "        for word in word4:\n",
    "            if string[2]!= word.string[1]:\n",
    "                word.boolean=False\n",
    "        for word in word7:\n",
    "            if string[3]!= word.string[0]:\n",
    "                word.boolean=False\n",
    "        for word in word8:\n",
    "            if string[4]!= word.string[2]:\n",
    "                word.boolean=False\n",
    "    if words==word3:\n",
    "        for word in word4:\n",
    "            if string[2]!= word.string[3]:\n",
    "                word.boolean=False\n",
    "        for word in word7:\n",
    "            if string[3]!= word.string[2]:\n",
    "                word.boolean=False\n",
    "        for word in word8:\n",
    "            if string[4]!= word.string[4]:\n",
    "                word.boolean=False\n",
    "    if words==word4:\n",
    "        for word in word5:\n",
    "            if string[2]!= word.string[0]:\n",
    "                word.boolean=False\n",
    "    if words==word5:\n",
    "        for word in word7:\n",
    "            if string[1]!= word.string[1]:\n",
    "                word.boolean=False\n",
    "        for word in word8:\n",
    "            if string[2]!= word.string[3]:\n",
    "                word.boolean=False\n",
    "    if words==word6:\n",
    "        for word in word8:\n",
    "            if string[1]!= word.string[0]:\n",
    "                word.boolean=False\n",
    "    return"
   ]
  },
  {
   "cell_type": "code",
   "execution_count": null,
   "metadata": {
    "collapsed": true
   },
   "outputs": [],
   "source": [
    "def test_constrain():\n",
    "    "
   ]
  }
 ],
 "metadata": {
  "kernelspec": {
   "display_name": "Python 3",
   "language": "python",
   "name": "python3"
  },
  "language_info": {
   "codemirror_mode": {
    "name": "ipython",
    "version": 3
   },
   "file_extension": ".py",
   "mimetype": "text/x-python",
   "name": "python",
   "nbconvert_exporter": "python",
   "pygments_lexer": "ipython3",
   "version": "3.6.3"
  }
 },
 "nbformat": 4,
 "nbformat_minor": 2
}
