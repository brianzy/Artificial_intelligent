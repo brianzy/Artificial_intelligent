{
 "cells": [
  {
   "cell_type": "code",
   "execution_count": 10,
   "metadata": {},
   "outputs": [
    {
     "data": {
      "text/plain": [
       "['STEER',\n",
       " 'SHEET',\n",
       " 'SAILS',\n",
       " 'LASER',\n",
       " 'HOSES',\n",
       " 'HOSES',\n",
       " 'LASER',\n",
       " 'SAILS',\n",
       " 'SHEET',\n",
       " 'STEER']"
      ]
     },
     "execution_count": 10,
     "metadata": {},
     "output_type": "execute_result"
    }
   ],
   "source": [
    "word1=['HOSES', 'LASER', 'SAILS', 'SHEET', 'STEER']\n",
    "word2=['HOSES', 'LASER', 'SAILS', 'SHEET', 'STEER']\n",
    "word3=['HOSES', 'LASER', 'SAILS', 'SHEET', 'STEER']\n",
    "word4=['HEEL', 'HIKE', 'KEEL', 'KNOT', 'LINE']\n",
    "word5=['HEEL', 'HIKE', 'KEEL', 'KNOT', 'LINE']\n",
    "word6=['AFT', 'ALE', 'EEL', 'LEE', 'TIE']\n",
    "word7=['AFT', 'ALE', 'EEL', 'LEE', 'TIE']\n",
    "word8=['HOSES', 'LASER', 'SAILS', 'SHEET', 'STEER']\n",
    "dicts=[word1,word2,word3,word4,word5,word6,word7,word8]\n",
    "#for word in word1:\n",
    "    #dict.append(word)\n",
    "#for word in word2:\n",
    "    #dict.insert(0,word)\n"
   ]
  },
  {
   "cell_type": "code",
   "execution_count": null,
   "metadata": {
    "collapsed": true
   },
   "outputs": [],
   "source": [
    "def constrain(string,assignment):\n",
    "    word_num=len(assignment)\n",
    "    if word_num==0:\n",
    "        return True\n",
    "    if word_num==1:\n",
    "        if assignment[0][2]==string[0]\n",
    "            return True\n",
    "    if word_num==2:\n",
    "        if assignment[0][4]==string[0]:\n",
    "            return True\n",
    "    if word_num==3:\n",
    "        if assignment[1][2]==string[1] and assignment[2][2]==string[3]:\n",
    "            return True\n",
    "    if word_num==4:\n",
    "        if assignment[3][2]==string[0]:\n",
    "            return True\n",
    "    if word_num==5:\n",
    "        return True\n",
    "    if word_num==6:\n",
    "        if assignment[4][1]==string[1] and assignment[2][3]==string[2] and assignment[1]==string[0]:\n",
    "            return True\n",
    "    if word_num==7:\n",
    "        if assignment[5][1]==string[0] and assignment[4][2]==string[3] and assignment[2][4]==string[4]:\n",
    "            return True\n",
    "    if word_num==8:\n",
    "        return True"
   ]
  },
  {
   "cell_type": "code",
   "execution_count": null,
   "metadata": {
    "collapsed": true
   },
   "outputs": [],
   "source": [
    "def back_tracking(dicts):\n",
    "    assignment=[]\n",
    "    stack=[]\n",
    "    i=0\n",
    "    j=0\n",
    "    while i <=8:\n",
    "        for word in dicts[i]:\n",
    "            stack.insert(-1,word)\n",
    "        assignment.append(stack.pop(0))"
   ]
  }
 ],
 "metadata": {
  "kernelspec": {
   "display_name": "Python 3",
   "language": "python",
   "name": "python3"
  },
  "language_info": {
   "codemirror_mode": {
    "name": "ipython",
    "version": 3
   },
   "file_extension": ".py",
   "mimetype": "text/x-python",
   "name": "python",
   "nbconvert_exporter": "python",
   "pygments_lexer": "ipython3",
   "version": "3.6.3"
  }
 },
 "nbformat": 4,
 "nbformat_minor": 2
}
