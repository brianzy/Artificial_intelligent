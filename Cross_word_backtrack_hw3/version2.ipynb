{
 "cells": [
  {
   "cell_type": "code",
   "execution_count": 190,
   "metadata": {},
   "outputs": [],
   "source": [
    "word1=['HOSES', 'LASER', 'SAILS', 'SHEET', 'STEER']\n",
    "word2=['HOSES', 'LASER', 'SAILS', 'SHEET', 'STEER']\n",
    "word3=['HOSES', 'LASER', 'SAILS', 'SHEET', 'STEER']\n",
    "word4=['HEEL', 'HIKE', 'KEEL', 'KNOT', 'LINE']\n",
    "word5=['HEEL', 'HIKE', 'KEEL', 'KNOT', 'LINE']\n",
    "word6=['AFT', 'ALE', 'EEL', 'LEE', 'TIE']\n",
    "word7=['AFT', 'ALE', 'EEL', 'LEE', 'TIE']\n",
    "word8=['HOSES', 'LASER', 'SAILS', 'SHEET', 'STEER']\n",
    "dicts=[word1,word2,word3,word4,word5,word6,word7,word8]\n",
    "#for word in word1:\n",
    "    #dict.append(word)\n",
    "#for word in word2:\n",
    "    #dict.insert(0,word)\n"
   ]
  },
  {
   "cell_type": "code",
   "execution_count": 191,
   "metadata": {},
   "outputs": [],
   "source": [
    "def constrain(string,assignment):\n",
    "    word_num=len(assignment)\n",
    "    if word_num==0:\n",
    "        return True\n",
    "    if word_num==1:\n",
    "        if assignment[0][2]==string[0]:\n",
    "            return True\n",
    "    if word_num==2:\n",
    "        if assignment[0][4]==string[0]:\n",
    "            return True\n",
    "    if word_num==3:\n",
    "        if assignment[1][2]==string[1] and assignment[2][2]==string[3]:\n",
    "            return True\n",
    "    if word_num==4:\n",
    "        if assignment[3][2]==string[0]:\n",
    "            return True\n",
    "    if word_num==5:\n",
    "        return True\n",
    "    if word_num==6:\n",
    "        if assignment[4][1]==string[1] and assignment[2][3]==string[2] and assignment[1]==string[0]:\n",
    "            return True\n",
    "    if word_num==7:\n",
    "        if assignment[5][1]==string[0] and assignment[4][2]==string[3] and assignment[2][4]==string[4]:\n",
    "            return True\n",
    "    if word_num==8:\n",
    "        return True\n",
    "    return False"
   ]
  },
  {
   "cell_type": "code",
   "execution_count": 192,
   "metadata": {},
   "outputs": [],
   "source": [
    "def back_tracking(dicts):\n",
    "    assignment=[]\n",
    "    stack=[]\n",
    "    i=0\n",
    "    for word in dicts[i]:\n",
    "        stack.insert(-1,word)\n",
    "\n",
    "    while i <8:\n",
    "        print('assig::',assignment)\n",
    "        print(\"stack:\",stack)\n",
    "        j=0    \n",
    "        string=stack.pop(-1)\n",
    "\n",
    "        while j<=len(dicts[i]):\n",
    "            if constrain(string,assignment)==True:\n",
    "                assignment.append(string)\n",
    "                i=i+1\n",
    "                for word in dicts[i]: \n",
    "                    stack.insert(-1,word)\n",
    "                break\n",
    "            elif j==len(dicts[i]):\n",
    "                assignment.pop(-1)\n",
    "                i=i-1\n",
    "                break\n",
    "            else:\n",
    "                \n",
    "                string=stack.pop(-1)\n",
    "                print('string',string)\n",
    "                j=j+1\n",
    "    return assignment"
   ]
  },
  {
   "cell_type": "code",
   "execution_count": 193,
   "metadata": {},
   "outputs": [
    {
     "name": "stdout",
     "output_type": "stream",
     "text": [
      "assig:: []\n",
      "stack: ['LASER', 'SAILS', 'SHEET', 'STEER', 'HOSES']\n",
      "assig:: ['HOSES']\n",
      "stack: ['LASER', 'SAILS', 'SHEET', 'HOSES', 'LASER', 'SAILS', 'SHEET', 'STEER', 'STEER']\n",
      "assig:: ['HOSES', 'STEER']\n",
      "stack: ['LASER', 'SAILS', 'SHEET', 'HOSES', 'LASER', 'SAILS', 'SHEET', 'HOSES', 'LASER', 'SAILS', 'SHEET', 'STEER', 'STEER']\n",
      "assig:: ['HOSES', 'STEER', 'STEER']\n",
      "stack: ['LASER', 'SAILS', 'SHEET', 'HOSES', 'LASER', 'SAILS', 'SHEET', 'HOSES', 'LASER', 'SAILS', 'SHEET', 'HEEL', 'HIKE', 'KEEL', 'KNOT', 'LINE', 'STEER']\n",
      "string LINE\n",
      "string KNOT\n",
      "string KEEL\n",
      "string HIKE\n",
      "string HEEL\n",
      "POPPIng\n",
      "assig:: ['HOSES', 'STEER']\n",
      "stack: ['LASER', 'SAILS', 'SHEET', 'HOSES', 'LASER', 'SAILS', 'SHEET', 'HOSES', 'LASER', 'SAILS', 'SHEET']\n",
      "assig:: ['HOSES', 'STEER', 'SHEET']\n",
      "stack: ['LASER', 'SAILS', 'SHEET', 'HOSES', 'LASER', 'SAILS', 'SHEET', 'HOSES', 'LASER', 'HEEL', 'HIKE', 'KEEL', 'KNOT', 'LINE', 'SAILS']\n",
      "string LINE\n",
      "string KNOT\n",
      "string KEEL\n",
      "string HIKE\n",
      "string HEEL\n",
      "POPPIng\n",
      "assig:: ['HOSES', 'STEER']\n",
      "stack: ['LASER', 'SAILS', 'SHEET', 'HOSES', 'LASER', 'SAILS', 'SHEET', 'HOSES', 'LASER']\n",
      "string HOSES\n",
      "string SHEET\n",
      "assig:: ['HOSES', 'STEER', 'SHEET']\n",
      "stack: ['LASER', 'SAILS', 'SHEET', 'HOSES', 'LASER', 'HEEL', 'HIKE', 'KEEL', 'KNOT', 'LINE', 'SAILS']\n",
      "string LINE\n",
      "string KNOT\n",
      "string KEEL\n",
      "string HIKE\n",
      "string HEEL\n",
      "POPPIng\n",
      "assig:: ['HOSES', 'STEER']\n",
      "stack: ['LASER', 'SAILS', 'SHEET', 'HOSES', 'LASER']\n",
      "string HOSES\n",
      "string SHEET\n",
      "assig:: ['HOSES', 'STEER', 'SHEET']\n",
      "stack: ['LASER', 'HEEL', 'HIKE', 'KEEL', 'KNOT', 'LINE', 'SAILS']\n",
      "string LINE\n",
      "string KNOT\n",
      "string KEEL\n",
      "string HIKE\n",
      "string HEEL\n",
      "POPPIng\n",
      "assig:: ['HOSES', 'STEER']\n",
      "stack: ['LASER']\n"
     ]
    },
    {
     "ename": "IndexError",
     "evalue": "pop from empty list",
     "output_type": "error",
     "traceback": [
      "\u001b[0;31m---------------------------------------------------------------------------\u001b[0m",
      "\u001b[0;31mIndexError\u001b[0m                                Traceback (most recent call last)",
      "\u001b[0;32m<ipython-input-193-e24c20dae58e>\u001b[0m in \u001b[0;36m<module>\u001b[0;34m()\u001b[0m\n\u001b[0;32m----> 1\u001b[0;31m \u001b[0mback_tracking\u001b[0m\u001b[0;34m(\u001b[0m\u001b[0mdicts\u001b[0m\u001b[0;34m)\u001b[0m\u001b[0;34m\u001b[0m\u001b[0m\n\u001b[0m",
      "\u001b[0;32m<ipython-input-192-e49f4b2dc68a>\u001b[0m in \u001b[0;36mback_tracking\u001b[0;34m(dicts)\u001b[0m\n\u001b[1;32m     26\u001b[0m             \u001b[0;32melse\u001b[0m\u001b[0;34m:\u001b[0m\u001b[0;34m\u001b[0m\u001b[0m\n\u001b[1;32m     27\u001b[0m \u001b[0;34m\u001b[0m\u001b[0m\n\u001b[0;32m---> 28\u001b[0;31m                 \u001b[0mstring\u001b[0m\u001b[0;34m=\u001b[0m\u001b[0mstack\u001b[0m\u001b[0;34m.\u001b[0m\u001b[0mpop\u001b[0m\u001b[0;34m(\u001b[0m\u001b[0;34m-\u001b[0m\u001b[0;36m1\u001b[0m\u001b[0;34m)\u001b[0m\u001b[0;34m\u001b[0m\u001b[0m\n\u001b[0m\u001b[1;32m     29\u001b[0m                 \u001b[0mprint\u001b[0m\u001b[0;34m(\u001b[0m\u001b[0;34m'string'\u001b[0m\u001b[0;34m,\u001b[0m\u001b[0mstring\u001b[0m\u001b[0;34m)\u001b[0m\u001b[0;34m\u001b[0m\u001b[0m\n\u001b[1;32m     30\u001b[0m                 \u001b[0mj\u001b[0m\u001b[0;34m=\u001b[0m\u001b[0mj\u001b[0m\u001b[0;34m+\u001b[0m\u001b[0;36m1\u001b[0m\u001b[0;34m\u001b[0m\u001b[0m\n",
      "\u001b[0;31mIndexError\u001b[0m: pop from empty list"
     ]
    }
   ],
   "source": [
    "back_tracking(dicts)"
   ]
  }
 ],
 "metadata": {
  "kernelspec": {
   "display_name": "Python 3",
   "language": "python",
   "name": "python3"
  },
  "language_info": {
   "codemirror_mode": {
    "name": "ipython",
    "version": 3
   },
   "file_extension": ".py",
   "mimetype": "text/x-python",
   "name": "python",
   "nbconvert_exporter": "python",
   "pygments_lexer": "ipython3",
   "version": "3.6.3"
  }
 },
 "nbformat": 4,
 "nbformat_minor": 2
}
